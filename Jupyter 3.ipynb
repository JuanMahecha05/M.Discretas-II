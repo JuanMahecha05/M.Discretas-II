{
 "cells": [
  {
   "cell_type": "markdown",
   "id": "3f0516d7",
   "metadata": {},
   "source": [
    "<h1>Matematicas Discretas 2 - Universidad Nacional de Colombia<h1/>\n",
    "<h1>Tarea 3 Jupyter<h1/>\n",
    "<h2>Juan Esteban Mahecha Trujillo<h2/>\n",
    "<h2>Expresar un número como una suma de cuadrados (pero con la menor cantidad de cuadrados).<h2/>"
   ]
  },
  {
   "cell_type": "markdown",
   "id": "4c919ab6",
   "metadata": {},
   "source": [
    "<p>El objetivo de la función numAsSumSquares es representar un número entero positivo n como la suma de cuadrados de números enteros no negativos. La estrategia que utiliza la función es ir \"partiendo por la mitad\" el número n, es decir, restar el mayor cuadrado que sea menor o igual a n-m en cada iteración hasta que se llegue a cero.\n",
    "\n",
    "Por ejemplo, si n es 50, la función empezará restando el mayor cuadrado que sea menor o igual a 50 (que es 49, o sea 7^2), lo que deja una diferencia de 1. Luego, en la siguiente iteración, restará el mayor cuadrado que sea menor o igual a 1 (que es 1, o sea 1^2), lo que deja una diferencia de 0. En ese momento se detiene el bucle y se devuelve la cadena \"7^2+1^2\", que representa la descomposición de 50 como la suma de dos cuadrados.\n",
    "\n",
    "El resultado de la función es una cadena de caracteres que representa la suma de cuadrados, donde cada término está separado por un signo \"+\" y cada término es el cuadrado de un número entero no negativo. La función utiliza la librería math para obtener la parte entera del resultado de la raíz cuadrada y poder hacer las operaciones necesarias.<p>"
   ]
  },
  {
   "cell_type": "code",
   "execution_count": null,
   "id": "8213456f",
   "metadata": {},
   "outputs": [],
   "source": [
    "import math\n",
    "\n",
    "def numAsSumSquares(n):\n",
    "  m=0      #Inicia la variable en 0\n",
    "  l=\"\"     # En esta variable se almacena la cadena que representa al entero expresado como la suma de cuadrados\n",
    "  while ((n-m)!=0):      #Se ejecuta mientras la resta de n y m sea distinto de cero\n",
    "    l=l+str(math.floor(math.sqrt((n-m))))+\"^2+\"\n",
    "    m=m+((math.floor(math.sqrt((n-m))))**2)    # realiza la operacion de ir \"partiendo por la mitad\"\n",
    "  return l[:-1] # retorna la cadena sin el último símbolo que es un +"
   ]
  }
 ],
 "metadata": {
  "kernelspec": {
   "display_name": "Python 3 (ipykernel)",
   "language": "python",
   "name": "python3"
  },
  "language_info": {
   "codemirror_mode": {
    "name": "ipython",
    "version": 3
   },
   "file_extension": ".py",
   "mimetype": "text/x-python",
   "name": "python",
   "nbconvert_exporter": "python",
   "pygments_lexer": "ipython3",
   "version": "3.11.3"
  }
 },
 "nbformat": 4,
 "nbformat_minor": 5
}
