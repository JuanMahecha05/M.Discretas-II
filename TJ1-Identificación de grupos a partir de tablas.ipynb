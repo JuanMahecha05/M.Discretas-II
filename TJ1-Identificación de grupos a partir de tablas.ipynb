{
 "cells": [
  {
   "cell_type": "markdown",
   "id": "9a022681",
   "metadata": {},
   "source": [
    "<h1>Matematicas Discretas 2 - Universidad Nacional de Colombia<h1>"
   ]
  },
  {
   "cell_type": "markdown",
   "id": "6b2221b1",
   "metadata": {},
   "source": [
    "<h1>Tarea 1 Jupyter<h1/>"
   ]
  },
  {
   "cell_type": "markdown",
   "id": "e52e676d",
   "metadata": {},
   "source": [
    "<h2>Juan Esteban Mahecha Trujillo<h2/>\n"
   ]
  },
  {
   "cell_type": "markdown",
   "id": "dbde112c",
   "metadata": {},
   "source": [
    "<h2>IDENTIFICACIÓN DE GRUPOS A PARTIR DE TABLAS.<h2/>"
   ]
  },
  {
   "cell_type": "markdown",
   "id": "1a4f7326",
   "metadata": {},
   "source": [
    "<p>Para esta tarea se nos solicitó realizar un algoritmo que facilite el análisis de las tablas de Cayley, evaluando las distintas propiedades que conocemos sobre cuadrados latinos y grupos, esto para realizar una función que distinga entre estos dos, es decir, que verifique dada una matriz cuadrada si es o no un cuadrado latino o un grupo o ambos. <p/>"
   ]
  },
  {
   "cell_type": "markdown",
   "id": "e5e181bf",
   "metadata": {},
   "source": [
    "<h3>Desarrollo<h3/>"
   ]
  },
  {
   "cell_type": "code",
   "execution_count": null,
   "id": "0c7eff34",
   "metadata": {},
   "outputs": [],
   "source": [
    "import numpy as np                \n",
    "import itertools   "
   ]
  },
  {
   "cell_type": "markdown",
   "id": "9125e5a9",
   "metadata": {},
   "source": [
    "<p>Este código define una función llamada isLatinSquare que toma una matriz g como argumento y devuelve un valor booleano que indica si la matriz es un cuadrado latino. Un cuadrado latino es una matriz cuadrada que contiene una permutación de los elementos de un conjunto en cada fila y columna, de manera que cada elemento del conjunto aparece exactamente una vez en cada fila y columna.\n",
    "\n",
    "La función comienza definiendo dos listas vacías, rows y columns, que se utilizan para verificar la unicidad de los elementos en cada fila y columna. Luego, se determina la longitud de la matriz g y se utiliza un bucle for anidado para recorrer todas las filas y columnas de la matriz.\n",
    "\n",
    "Dentro del bucle, se comprueba si un elemento de la fila actual o de la columna actual ya está presente en las listas rows o columns. Si es así, la función retorna False, indicando que la matriz no es un cuadrado latino. Si no se encuentra ningún elemento repetido, se agregan los elementos de la fila y la columna actual a las listas rows y columns, respectivamente.\n",
    "\n",
    "Al final de cada iteración de columna, se vacían las listas rows y columns para la siguiente columna. Finalmente, la función devuelve True si no se encontraron elementos repetidos en ninguna fila o columna de la matriz, lo que indica que la matriz es un cuadrado latino. <p/>"
   ]
  },
  {
   "cell_type": "code",
   "execution_count": null,
   "id": "3b32ed4c",
   "metadata": {},
   "outputs": [],
   "source": [
    "def isLatinSquare(g):\n",
    "  rows = []\n",
    "  columns = []\n",
    "  lenght = len(g)\n",
    "\n",
    "  for i in range(lenght):\n",
    "    for j in range(lenght):\n",
    "      if((g[i][j] in rows) or (g[j][i] in columns)):  #  Esta parte del codigo recorre las filas y \n",
    "        return False                                  # las columnas al mismo tiempo para mayor eficiencia\n",
    "      else:                                           # Si en algun momento el elemento esta repetido retorna false\n",
    "        rows.append(g[i][j])\n",
    "        columns.append(g[j][i])\n",
    "    rows = []\n",
    "    columns = []\n",
    "  return True"
   ]
  },
  {
   "cell_type": "markdown",
   "id": "ae5f629a",
   "metadata": {},
   "source": [
    "<h3>Verificación si es grupo o no: <h3/>"
   ]
  },
  {
   "cell_type": "markdown",
   "id": "621830ae",
   "metadata": {},
   "source": [
    "<p>Primero debemos tener en cuenta que en la definición de grupos, para saber si son o no son grupos, debemos tener presente las propiedades que estos cargan consigo, podemos verlas en este orden\n",
    "\n",
    "- La existencia de un elemento neutro\n",
    "- La operación debe ser cerrada.\n",
    "- Debe haber la existencia de elementos inversos para los elementos del conjunto.\n",
    "- La operación debe ser asociativa. <p/>"
   ]
  },
  {
   "cell_type": "code",
   "execution_count": null,
   "id": "cb0d68cf",
   "metadata": {},
   "outputs": [],
   "source": [
    "Conjunto =np.array(['e','g1','g2','g3','g4','g5'])  # Definimos un arreglo con los elementos que representan el conjunto\n",
    "Matriz = np.array([                                 # Definimos una matriz con los elementos dentro de la tabla de cayley\n",
    "            [ 'e','g1','g2','g3','g4','g5'],\n",
    "            ['g1', 'e','g3','g4','g5','g2'],\n",
    "            ['g2','g3', 'e','g5','g1','g4'],\n",
    "            ['g3','g4','g5', 'e','g2','g1'],\n",
    "            ['g4','g5','g1','g2', 'e','g3'],\n",
    "            ['g5','g2','g4','g1','g3','e']\n",
    "         ])"
   ]
  },
  {
   "cell_type": "markdown",
   "id": "34812b35",
   "metadata": {},
   "source": [
    "<p>Declaración de banderas<p/>"
   ]
  },
  {
   "cell_type": "code",
   "execution_count": null,
   "id": "a14260bb",
   "metadata": {},
   "outputs": [],
   "source": [
    "EsCerrada=False\n",
    "HayNeutro=False\n",
    "HayInversos=False\n",
    "EsAsociativa=False"
   ]
  },
  {
   "cell_type": "markdown",
   "id": "4189f6a5",
   "metadata": {},
   "source": [
    "<p>Verificación si la matriz es cerrada<p/>"
   ]
  },
  {
   "cell_type": "code",
   "execution_count": null,
   "id": "1778dfec",
   "metadata": {},
   "outputs": [],
   "source": [
    "def VerificarCerrada(Conjunto, Matriz):                    #Se toman de parámetros el conjunto y matriz instanciados anteriormente.\n",
    "    tamMatriz = len(Matriz)\n",
    "    for i in range(tamMatriz):\n",
    "        for j in range(tamMatriz):                          #Se accede a la matriz dada.\n",
    "            if (Matriz[i][j] not in Conjunto):              #Revisa si los elementos de la matriz no están dentro del conjunto base.\n",
    "                return False                                #Retorna falso (booleano) si no es cerrada.\n",
    "    return True "
   ]
  },
  {
   "cell_type": "markdown",
   "id": "a6859256",
   "metadata": {},
   "source": [
    "<p>Calcular elemento neutro<p/>"
   ]
  },
  {
   "cell_type": "code",
   "execution_count": null,
   "id": "43ad7642",
   "metadata": {},
   "outputs": [],
   "source": [
    "def CalcularNeutro(Conjunto,Matriz):\n",
    "\n",
    "    Neutrofila=[False,None]\n",
    "    Neutrocolumna=[False,None]\n",
    "    TamMatriz = len(Matriz)                           #Es el tamaño de la matriz\n",
    "    MatTranspuesta = Matriz.transpose()               #Entrega la matriz transpuesta según la original.\n",
    "           \n",
    "    for i in range(TamMatriz):\n",
    "        if(np.array_equal(Matriz[i],Conjunto)):                 #Revisa si la fila de la matriz es equivalente al conjunto inicial dado.\n",
    "            Neutrofila[0]=True\n",
    "            Neutrofila[1]=Conjunto[i]                           #Guarda el posible elemento neutro de las filas.\n",
    "\n",
    "        if(np.array_equal(MatTranspuesta[i],Conjunto)):         #Revisa si la fila de la matriz transpuesta (columna original)... \n",
    "            Neutrocolumna[0]=True                               #es equivalente al conjunto inicial dado.\n",
    "            Neutrocolumna[1]=Conjunto[i]                        #Guarda el posible elemento neutro de las columnas.\n",
    "\n",
    "        if (Neutrofila[0] and Neutrocolumna[0] and (Neutrofila[1]==Neutrocolumna[1])): \n",
    "            return True, Neutrofila[1]                          #Si encuentra el elemento neutro en fila y columna lo retorna.\n",
    "\n",
    "    return False, None                                          #Retorna falso (booleano) y none si no no encuentra el elemento neutro. "
   ]
  },
  {
   "cell_type": "markdown",
   "id": "8fefc9fe",
   "metadata": {},
   "source": [
    "<p>Identificamos el elemento neutro de la matriz, si es cerrada o no<p>"
   ]
  },
  {
   "cell_type": "code",
   "execution_count": null,
   "id": "fada6b3a",
   "metadata": {},
   "outputs": [],
   "source": [
    "EsCerrada = VerificarCerrada(Conjunto, Matriz)\n",
    "if (EsCerrada):                                                     #Si la matriz es cerrada cambiar la bandera de HayNeutro a True\n",
    "    HayNeutro, Neutro = CalcularNeutro(Conjunto,Matriz)             #Y guarda el elemento Neutro en la variable del mismo nombre."
   ]
  },
  {
   "cell_type": "markdown",
   "id": "73d3eecb",
   "metadata": {},
   "source": [
    "<p>La primera función, \"BuscarInverso\", toma un número de elemento, un conjunto, una matriz, y un elemento neutro y busca un inverso para el número de elemento en la matriz. Primero, transpone la matriz para poder buscar en las columnas. Luego, comprueba si el elemento neutro está en la fila correspondiente al número de elemento en la matriz. Si es así, utiliza NumPy para buscar el índice donde se encuentra el elemento neutro en la fila y utiliza ese índice para encontrar el inverso del elemento en el conjunto dado. Luego, comprueba si el elemento neutro también está en la columna correspondiente al número de elemento en la matriz. Si es así, utiliza NumPy para buscar el índice donde se encuentra el elemento neutro en la columna y utiliza ese índice para encontrar el inverso del elemento en el conjunto dado. Si el inverso encontrado en la fila es igual al inverso encontrado en la columna, devuelve True, lo que indica que el elemento tiene un inverso en la operación binaria dada. Si no se encuentra ningún elemento neutro o si los inversos encontrados no son iguales, devuelve False, lo que indica que el elemento no tiene un inverso en la operación binaria dada.\n",
    "\n",
    "La segunda función, \"VerificarInversos\", toma un conjunto, una matriz, y un elemento neutro y utiliza la función \"BuscarInverso\" para verificar la existencia y unicidad de elementos inversos para todos los elementos en el conjunto. Si un elemento no tiene un inverso en la operación binaria dada, devuelve False. Si todos los elementos tienen un inverso único, devuelve True.<p>"
   ]
  },
  {
   "cell_type": "code",
   "execution_count": null,
   "id": "69ad7f0b",
   "metadata": {},
   "outputs": [],
   "source": [
    "def BuscarInverso(NumElemento,Conjunto,Matriz,Neutro):\n",
    "    MatTranspuesta = Matriz.transpose()                             #Transpone la Matriz base\n",
    "    InversoFila=None\n",
    "    InversoColumna=None\n",
    "    if (Neutro in Matriz[NumElemento]):                             #Busca si el Elemento neutro está en el índice dado en las filas\n",
    "        InversoFila=Conjunto[np.where(Matriz[NumElemento]==Neutro)] #np.where busca en la matriz el elemento neutro y luego trae...\n",
    "    if (InversoFila):                                               #cuál sería ese elemento.\n",
    "        if (Neutro in MatTranspuesta[NumElemento]):                                   \n",
    "            InversoColumna=Conjunto[np.where(MatTranspuesta[NumElemento]==Neutro)] #Busca si el Elemento neutro está en el índice dado en las columnas\n",
    "        if(InversoFila==InversoColumna):     #Revisa si son iguales los inversos encontrados en la posición puesto que los inversos son asociativos.\n",
    "            return True\n",
    "    return False      #Si no hay algún elemento neutro entonces el inverso no puede existir por la definición de si mismo.\n",
    "\n",
    "#Verifica la unicidad de los elementos inversos para cualquier elemento dentro de la operación.\n",
    "def VerificarInversos(Conjunto,Matriz,Neutro):\n",
    "    for numelemento in range(len(Conjunto)):\n",
    "        if (not BuscarInverso(numelemento,Conjunto,Matriz,Neutro)):\n",
    "            return False\n",
    "    return True"
   ]
  },
  {
   "cell_type": "markdown",
   "id": "840eb4a1",
   "metadata": {},
   "source": [
    "<p>Verifica si hay neutros y si encuentra un Neutro ejecuta la función HayInversos.<p>"
   ]
  },
  {
   "cell_type": "code",
   "execution_count": null,
   "id": "1ec3caf4",
   "metadata": {},
   "outputs": [],
   "source": [
    "if (HayNeutro):\n",
    "    HayInversos=VerificarInversos(Conjunto,Matriz,Neutro) #Si encuentra un Neutro ejecuta la función HayInversos.\n"
   ]
  },
  {
   "cell_type": "markdown",
   "id": "35a07bf4",
   "metadata": {},
   "source": [
    "<p>Se revisa si hay asosiatividad<p>"
   ]
  },
  {
   "cell_type": "code",
   "execution_count": null,
   "id": "0bcbad76",
   "metadata": {},
   "outputs": [],
   "source": [
    "def IsAsociative(Conjunto,Matriz):\n",
    "    n = len(Conjunto)\n",
    "    lista=[]\n",
    "    for i in range(n):\n",
    "      lista.append(i)\n",
    "    result = []\n",
    "    for i in range(n-2):\n",
    "        for j in range(i+1, n-1):\n",
    "            for k in range(j+1, n):\n",
    "                result.append([lista[i], lista[j], lista[k]])                           # encuentra los 3 elementos\n",
    "    \n",
    "    ban=True\n",
    "    posibilidades=result\n",
    "    for i in range(len(posibilidades)):\n",
    "      resultado1=np.where(Conjunto==Matriz[posibilidades[i][1]][posibilidades[i][2]])[0][0]       # \"\"     \"\"      \"\"       \"\" \n",
    "      resultado2=np.where(Conjunto==Matriz[posibilidades[i][0]][posibilidades[i][1]])[0][0]       # calcula las dos operaciones\n",
    "      if(Matriz[(posibilidades[i][0])][resultado1]!=Matriz[resultado2][(posibilidades[i][2])]):   # revisa si no son equivalentes\n",
    "        ban=False                                                         # retorna Falso (booleano) en caso de no ser Asociativa\n",
    "        i=len(posibilidades)-1\n",
    "    return ban                                                            # retorna Verdadero (booleano) en caso de ser Asociativa\n",
    "\n",
    "if (HayInversos):                         #Si encuentra los inversos ejecuta la función EsAsociativa.\n",
    "    EsAsociativa = IsAsociative(Conjunto,Matriz)"
   ]
  },
  {
   "cell_type": "markdown",
   "id": "130819ae",
   "metadata": {},
   "source": [
    "<p>Si las siguientes tres comprobaciones se cumplen, podemos decir que la matriz inicial es un grupo (Y a su vez, un cuadrado latino). Si no, procedemos a verificar si la matriz es un cuadro latino o no.<p>"
   ]
  },
  {
   "cell_type": "code",
   "execution_count": null,
   "id": "38a72f66",
   "metadata": {},
   "outputs": [],
   "source": [
    "if (EsCerrada and HayNeutro and HayInversos and EsAsociativa):\n",
    "    print(\"El conjunto más la operación definida por la tabla de Cayley ingresadas son un grupo, y un cuadrado latino.\")\n",
    "else:\n",
    "    print(\"El conjunto más la operación definida por la tabla de Cayley ingresadas NO son un grupo\")\n",
    "    EsGrupo=False"
   ]
  },
  {
   "cell_type": "markdown",
   "id": "1286fd8d",
   "metadata": {},
   "source": [
    "<p>El conjunto más la operación definida por la tabla de Cayley ingresadas NO serian un grupo, ya que no cumplieron con\n",
    "las condiciones requeridas.<p>"
   ]
  },
  {
   "cell_type": "markdown",
   "id": "8ea533b7",
   "metadata": {},
   "source": [
    "<p>Bibliografía\n",
    "\n",
    "https://marcelgoh.ca/2018/10/06/cayley-tables.html\n",
    "\n",
    "Clifford, Alfred Hoblitzelle; Preston, Gordon Bamford (1961). The algebraic theory of semigroups. Vol. I. Mathematical Surveys, No. 7. Providence, R.I.: American Mathematical Society. ISBN 978-0-8218-0272-4. MR 0132791. (pp. 7–9)\n",
    "\n",
    "https://gist.github.com/jfinkels/c33681e7f7b54421ea02<p>"
   ]
  },
  {
   "cell_type": "code",
   "execution_count": null,
   "id": "df1d3c18",
   "metadata": {},
   "outputs": [],
   "source": []
  }
 ],
 "metadata": {
  "kernelspec": {
   "display_name": "Python 3 (ipykernel)",
   "language": "python",
   "name": "python3"
  },
  "language_info": {
   "codemirror_mode": {
    "name": "ipython",
    "version": 3
   },
   "file_extension": ".py",
   "mimetype": "text/x-python",
   "name": "python",
   "nbconvert_exporter": "python",
   "pygments_lexer": "ipython3",
   "version": "3.11.3"
  }
 },
 "nbformat": 4,
 "nbformat_minor": 5
}
