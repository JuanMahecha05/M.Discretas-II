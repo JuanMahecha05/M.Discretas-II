{
 "cells": [
  {
   "cell_type": "markdown",
   "id": "fc0ea173",
   "metadata": {},
   "source": [
    "<h1>Matematicas Discretas 2 - Universidad Nacional de Colombia<h1/>\n",
    "<h1>Tarea 2 Jupyter<h1/>\n",
    "<h2>Juan Esteban Mahecha Trujillo<h2/>\n",
    "<h2>Comprobar el tiempo por el método tradicional de comprobar 1 a 1, vs. Totient de Euler.<h2/>"
   ]
  },
  {
   "cell_type": "markdown",
   "id": "4c2e0e19",
   "metadata": {},
   "source": [
    "<h5>1. Comprobación del tiempo por el método tradicional<h5>"
   ]
  },
  {
   "cell_type": "markdown",
   "id": "e4ff2c77",
   "metadata": {},
   "source": [
    "<p>En este algoritmo se obtienen los generadores de algun grupo ciclico atraves del método traducional, o mejor dicho, a fuerza bruta.<p>"
   ]
  },
  {
   "cell_type": "code",
   "execution_count": null,
   "id": "b4b0ba95",
   "metadata": {},
   "outputs": [],
   "source": [
    "def getGenerators(arr):  # Función que obtiene los generadores de un grupo por el método tradicional (No recomendado para grupos muy grandes)\n",
    "  generators = []        \n",
    "  for i in range(arr):   # En este caso usamos dos bucles anidados :C\n",
    "    subgroup = []        # Esto es lo que realentiza el algoritmo\n",
    "    j = 1\n",
    "    while(j<arr+3):                  \n",
    "      number = (i*j)%arr             # el múmero sera i+j mod tamaño del grupo\n",
    "      if(number not in subgroup):    # Si el número no esta en el subgrupo, entonces se almacena\n",
    "        subgroup.append(number)\n",
    "      else:\n",
    "        j = arr+3                    # De lo contrario aumenta el contador y pasa a verificar otro\n",
    "      j+=1\n",
    "    if(len(subgroup)==arr):\n",
    "      generators.append(i)\n",
    "\n",
    "  return generators     #Esta función retorna un arreglo con los generadores de un grupo"
   ]
  },
  {
   "cell_type": "code",
   "execution_count": null,
   "id": "361c61c5",
   "metadata": {},
   "outputs": [],
   "source": [
    "print(getGenerators(12))"
   ]
  },
  {
   "cell_type": "markdown",
   "id": "24291dcc",
   "metadata": {},
   "source": [
    "<p>Si le pedimos que nos muestre los generadores de 12 nos mostrara los siguiente: [1, 5, 7, 11]<p>\n",
    "<p>Lo cual lo muestra en cuestion de milisegundos, pero esto es porque Este método puede ser bastante \n",
    "eficiente si el grupo es pequeño y si se conoce la estructura del grupo. Pero con grupos ya de tamaños\n",
    "mucho mayores, este metodo resulta lento o costoso en terminos de tiempo de cálculo, por ejemplo con un grupo de 100000 se puede tardar horas o incluso dias, dependiendo que tan eficiente se hizo el algoritmo.<p>"
   ]
  },
  {
   "cell_type": "markdown",
   "id": "022d36ec",
   "metadata": {},
   "source": [
    "<h5>2. Comprobación del tiempo por el método del Totient de Euler<h5>"
   ]
  },
  {
   "cell_type": "markdown",
   "id": "e0200130",
   "metadata": {},
   "source": [
    "<p> este caso se realizara la comprobación por el método de phi de Euler o Totient de Euler, en el cual se hace uso del concepto de números coprimos, adicional a ello tendremos que usar un algoritmo para obtener el máximo común divisor de dos números, basicamente el algoritmo de Euclides.<p>\n",
    "    "
   ]
  },
  {
   "cell_type": "code",
   "execution_count": null,
   "id": "de98d05e",
   "metadata": {},
   "outputs": [],
   "source": [
    "# Algoritmo del máximo común divisor (MCD)\n",
    "# Algoritmo de Euclides \n",
    "def mcd(a, b):\n",
    "    temporal = 0     # Creamos una variable temporal \n",
    "    while b != 0:    # mientras b sea distinto de cero continuamos el bucle\n",
    "        temporal = b     # Ahora temporal = b\n",
    "        b = a % b        # Y b = a mod b \n",
    "        a = temporal     # a pasa a ser igual a temporal\n",
    "    return a             # retornamos a, que vendría siendo el mcd(a,b)"
   ]
  },
  {
   "cell_type": "markdown",
   "id": "2a474aa9",
   "metadata": {},
   "source": [
    "<p>Ahora hacemos el algoritmo del Totient de Euler:<p>"
   ]
  },
  {
   "cell_type": "code",
   "execution_count": null,
   "id": "a41cb1bf",
   "metadata": {},
   "outputs": [],
   "source": [
    "def totientEuler(arr):   # Usando el Totient de Euler\n",
    "  generators = []                # Creamos un arreglo que almacena los generadores\n",
    "  for x in range(1,arr+1):       # Con un bucle verficamos cuales son o no generadores \n",
    "    if(mcd(x,arr)==1):           # verificamos si los números son coprimos\n",
    "      generators.append(x)       # En caso de que lo lleguen a ser, almacenamos el número en los generadores \n",
    "  return generators              # retornamos los generadores"
   ]
  },
  {
   "cell_type": "markdown",
   "id": "b8cea89c",
   "metadata": {},
   "source": [
    "<p>Si le pedimos que nos muestre los generadores de 12 pues tambien nos mostrara los siguiente: [1, 5, 7, 11]<p>\n",
    "<p>Esta funcion es practicamente igual de rapida que la tradicional para grupos pequeños, la cosa cambia cuando\n",
    "el grupo ya es de un tamaño considerable ya que esta función es más fácil de calcular que probar cada elemento\n",
    "del grupo(Como en el tradicional), especialmente para grupos grandes, asi que muestra los generadores de grupos grandes\n",
    "en cuestion de segundos o minutos.<p>"
   ]
  }
 ],
 "metadata": {
  "kernelspec": {
   "display_name": "Python 3 (ipykernel)",
   "language": "python",
   "name": "python3"
  },
  "language_info": {
   "codemirror_mode": {
    "name": "ipython",
    "version": 3
   },
   "file_extension": ".py",
   "mimetype": "text/x-python",
   "name": "python",
   "nbconvert_exporter": "python",
   "pygments_lexer": "ipython3",
   "version": "3.11.3"
  }
 },
 "nbformat": 4,
 "nbformat_minor": 5
}
